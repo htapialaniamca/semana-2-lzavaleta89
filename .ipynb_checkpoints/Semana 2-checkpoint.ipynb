{
 "cells": [
  {
   "cell_type": "code",
   "execution_count": 3,
   "metadata": {
    "collapsed": false
   },
   "outputs": [],
   "source": [
    "import numpy as np\n",
    "import pandas as pd\n",
    "import matplotlib as plt\n",
    "import ipyparallel as ipp\n",
    "\n",
    "%matplotlib inline\n",
    "\n",
    "rc = ipp.Client()"
   ]
  },
  {
   "cell_type": "code",
   "execution_count": 10,
   "metadata": {
    "collapsed": false
   },
   "outputs": [
    {
     "data": {
      "text/plain": [
       "[0, 1, 2, 3]"
      ]
     },
     "execution_count": 10,
     "metadata": {},
     "output_type": "execute_result"
    }
   ],
   "source": [
    "rc.ids"
   ]
  },
  {
   "cell_type": "code",
   "execution_count": 9,
   "metadata": {
    "collapsed": false
   },
   "outputs": [
    {
     "data": {
      "text/plain": [
       "<DirectView [0, 1]>"
      ]
     },
     "execution_count": 9,
     "metadata": {},
     "output_type": "execute_result"
    }
   ],
   "source": [
    "rc[0:2]"
   ]
  },
  {
   "cell_type": "code",
   "execution_count": 17,
   "metadata": {
    "collapsed": false
   },
   "outputs": [
    {
     "name": "stdout",
     "output_type": "stream",
     "text": [
      "ipcontroller-client.json  ipcontroller-engine.json\r\n"
     ]
    }
   ],
   "source": [
    "ls /Users/luis/.ipython/profile_default/security/"
   ]
  },
  {
   "cell_type": "code",
   "execution_count": null,
   "metadata": {
    "collapsed": true
   },
   "outputs": [],
   "source": [
    "# %load /Users/luis/.ipython/profile_default/security/ipcontroller-client.json\n",
    "{\n",
    "  \"control\": 50976, \n",
    "  \"task\": 50982, \n",
    "  \"notification\": 50986, \n",
    "  \"task_scheme\": \"leastload\", \n",
    "  \"mux\": 50978, \n",
    "  \"iopub\": 50984, \n",
    "  \"ssh\": \"\", \n",
    "  \"key\": \"17c0b19a-43dc-4544-b532-caa9ef1f0a3b\", \n",
    "  \"registration\": 50974, \n",
    "  \"interface\": \"tcp://127.0.0.1\", \n",
    "  \"signature_scheme\": \"hmac-sha256\", \n",
    "  \"pack\": \"json\", \n",
    "  \"unpack\": \"json\", \n",
    "  \"location\": \"192.168.10.193\"\n",
    "}"
   ]
  },
  {
   "cell_type": "code",
   "execution_count": null,
   "metadata": {
    "collapsed": true
   },
   "outputs": [],
   "source": [
    "# %load /Users/luis/.ipython/profile_default/security/ipcontroller-engine.json\n",
    "{\n",
    "  \"control\": 50977, \n",
    "  \"task\": 50983, \n",
    "  \"hb_ping\": 50980, \n",
    "  \"mux\": 50979, \n",
    "  \"pack\": \"json\", \n",
    "  \"hb_pong\": 50981, \n",
    "  \"ssh\": \"\", \n",
    "  \"key\": \"17c0b19a-43dc-4544-b532-caa9ef1f0a3b\", \n",
    "  \"registration\": 50974, \n",
    "  \"interface\": \"tcp://127.0.0.1\", \n",
    "  \"iopub\": 50985, \n",
    "  \"signature_scheme\": \"hmac-sha256\", \n",
    "  \"unpack\": \"json\", \n",
    "  \"location\": \"192.168.10.193\"\n",
    "}"
   ]
  },
  {
   "cell_type": "code",
   "execution_count": 22,
   "metadata": {
    "collapsed": false
   },
   "outputs": [
    {
     "data": {
      "text/plain": [
       "'Hola, mundo'"
      ]
     },
     "execution_count": 22,
     "metadata": {},
     "output_type": "execute_result"
    }
   ],
   "source": [
    "rc[0].apply_sync(lambda: \"Hola, mundo\")"
   ]
  },
  {
   "cell_type": "code",
   "execution_count": 23,
   "metadata": {
    "collapsed": false
   },
   "outputs": [
    {
     "data": {
      "text/plain": [
       "[26484, 26489, 26490, 26491]"
      ]
     },
     "execution_count": 23,
     "metadata": {},
     "output_type": "execute_result"
    }
   ],
   "source": [
    "import os\n",
    "\n",
    "dview = rc.direct_view()\n",
    "dview.apply_sync(os.getpid)"
   ]
  },
  {
   "cell_type": "code",
   "execution_count": 25,
   "metadata": {
    "collapsed": false
   },
   "outputs": [
    {
     "data": {
      "text/plain": [
       "['MacBook-Pro-de-Luis.local',\n",
       " 'MacBook-Pro-de-Luis.local',\n",
       " 'MacBook-Pro-de-Luis.local',\n",
       " 'MacBook-Pro-de-Luis.local']"
      ]
     },
     "execution_count": 25,
     "metadata": {},
     "output_type": "execute_result"
    }
   ],
   "source": [
    "import socket as s\n",
    "\n",
    "dview.apply_sync(s.gethostname)"
   ]
  },
  {
   "cell_type": "code",
   "execution_count": 26,
   "metadata": {
    "collapsed": false
   },
   "outputs": [
    {
     "data": {
      "text/plain": [
       "'MacBook-Pro-de-Luis.local'"
      ]
     },
     "execution_count": 26,
     "metadata": {},
     "output_type": "execute_result"
    }
   ],
   "source": [
    "rc[0].apply_sync(s.gethostname)"
   ]
  },
  {
   "cell_type": "code",
   "execution_count": 27,
   "metadata": {
    "collapsed": false
   },
   "outputs": [
    {
     "data": {
      "text/plain": [
       "8"
      ]
     },
     "execution_count": 27,
     "metadata": {},
     "output_type": "execute_result"
    }
   ],
   "source": [
    "def cubo(x):\n",
    "    return x**3\n",
    "cubo(2)"
   ]
  },
  {
   "cell_type": "code",
   "execution_count": 28,
   "metadata": {
    "collapsed": false
   },
   "outputs": [
    {
     "data": {
      "text/plain": [
       "[1, 8, 27, 64, 125, 216]"
      ]
     },
     "execution_count": 28,
     "metadata": {},
     "output_type": "execute_result"
    }
   ],
   "source": [
    "lista = [cubo(x) for x in range(1,7)]\n",
    "lista"
   ]
  },
  {
   "cell_type": "code",
   "execution_count": 32,
   "metadata": {
    "collapsed": false
   },
   "outputs": [
    {
     "data": {
      "text/plain": [
       "[1, 8, 27, 64, 125, 216, 343, 512, 729]"
      ]
     },
     "execution_count": 32,
     "metadata": {},
     "output_type": "execute_result"
    }
   ],
   "source": [
    "map(cubo, range(1,10))"
   ]
  },
  {
   "cell_type": "code",
   "execution_count": null,
   "metadata": {
    "collapsed": true
   },
   "outputs": [],
   "source": [
    "serial = map(cubo, range(1,7))"
   ]
  }
 ],
 "metadata": {
  "kernelspec": {
   "display_name": "Python 2",
   "language": "python",
   "name": "python2"
  },
  "language_info": {
   "codemirror_mode": {
    "name": "ipython",
    "version": 2
   },
   "file_extension": ".py",
   "mimetype": "text/x-python",
   "name": "python",
   "nbconvert_exporter": "python",
   "pygments_lexer": "ipython2",
   "version": "2.7.13"
  }
 },
 "nbformat": 4,
 "nbformat_minor": 2
}
