{
 "cells": [
  {
   "cell_type": "markdown",
   "metadata": {},
   "source": [
    "# Wiki Computo de alto desempeño.\n",
    "### Equipo Lania 1.\n",
    "### Mayo - Agosto 2017.\n",
    "\n",
    "## Integrantes\n",
    "__Jácome Delgao Joan Arturo<br>\n",
    "Parra del Campo Brenda<br>\n",
    "Viveros Martínez Yair<br>\n",
    "Súarez Ramírez Rubén Alberto<br>\n",
    "Zavaleta Ibarra Luis Abraham<br>__\n",
    "\n",
    "# Pasos para realizar una supercomputadora mediante RASPBERRY PI 2 "
   ]
  },
  {
   "cell_type": "markdown",
   "metadata": {},
   "source": [
    "#### Elementos requeridos para crear la supercomputadora. \n",
    "<li> Tarjeta Raspberry PI (para está práctica se utiliza la tipo PI 2)</li>\n",
    "<li> Tarjeta MicroSD (para está practica se utiliza una de 32 GB)</li>\n",
    "<li> Monitor con entrada HDMI</li>\n",
    "<li> Cable HDMI <font color='red'> (Se recomienda no hacer uso de adaptadores HDMI debido al consumo de energía)</font></li>\n",
    "<li> Teclado y mouse (conexión USB)</li>\n",
    "<li> Cable UTP</li>\n",
    "<li> Cargador de 5V</li>"
   ]
  },
  {
   "cell_type": "markdown",
   "metadata": {},
   "source": [
    "## Etapa 1. Instalación del Sistema Operativo.\n",
    "* Requieres descargar la imagen del sistema operativo Raspbien desde la siguiente URL: https://www.raspberrypi.org/downloads/\n",
    "2. Al momento de realizar esta práctica se hace uso de la versión RASPBIAN JESSIE WITH PIXEL. Descarga el archivo .zip\n",
    "3. Una vez que descargaste el archivo, se debe descomprimir y utilizar un programa generador de imágenes de disco. La opción más conocida para Windows es Win32 DIsk Imager.\n",
    "4. Ejecutar el programa Win32 DIsk Imager en modo administrador.\n",
    "5. Seleccionar el archivo .ISO que se obtuvo de descomprimir el archivo .zip\n",
    "6. Seleccionar la tarjeta MicroSD donde se instalará la imagen.\n",
    "7. Una vez que el sistema está cargado en la tarjeta, se puede proceder a insertarla cuidadosamente en la RaspPi"
   ]
  },
  {
   "cell_type": "markdown",
   "metadata": {},
   "source": [
    "## Etapa 2. Conexión.\n",
    "* Asegurate que el cargador cubre con los requisitos de voltaje, para que no causes un daño en la tarjeta.\n",
    "2. Conecta todos los periféricos a la tarjeta RaspPi antes de conectar el cargador.\n",
    "3. Una vez conectada la tarjeta se comienza a cargar el sistema operativo es sumamente importante no desconectar de la corriente durante esté paso de carga ya que se pueden provocar daños a la imagen."
   ]
  },
  {
   "cell_type": "markdown",
   "metadata": {},
   "source": [
    "## Etapa 3. Configuración. \n",
    "* Ingresar a una terminal de sistema operativo y ejecutar el comando :"
   ]
  },
  {
   "cell_type": "markdown",
   "metadata": {},
   "source": [
    "**$ sudo raspi-config**"
   ]
  },
  {
   "cell_type": "markdown",
   "metadata": {},
   "source": [
    "* Se mostrará una lista de opciones donde se selecciona ampliar la imagen\n",
    "3. Dentro de la misma ventana de configuración del sistema se puede realizar el cambio de contraseña de acceso. Para este ejercicio se hace uso de la contraseña : **lania1**\n",
    "4. Cambiar el hostname de la tarjeta para poder identificarla en la red, para este ejercicio se utiliza el comando: "
   ]
  },
  {
   "cell_type": "markdown",
   "metadata": {},
   "source": [
    "**$ rpi-lania1**"
   ]
  },
  {
   "cell_type": "markdown",
   "metadata": {},
   "source": [
    "* Se reinicia la sesión para que cobren efecto los cambios, dar clic en **finish**\n",
    "* Al reiniciarle la tarjeta pedirá la contraseña que se modifico anteriormente.\n",
    "2. Abrir una termina y ejecutar los siguientes pasos\n",
    "3. Actualizar la lista de paquetes del sistema operativo mediante el comando"
   ]
  },
  {
   "cell_type": "markdown",
   "metadata": {},
   "source": [
    "**$ sudo apt-get update**"
   ]
  },
  {
   "cell_type": "markdown",
   "metadata": {},
   "source": [
    "* Cuando el comando anterior a terminado de descargar a lista de paquetes, se puede proceder a actualizarlos con el comando <font color='red'>(**NOTA:** no realizar este paso no afecta la configuración, este proceso puede tardar dependiendo de las condiciones de la red y el número de paquetes)</font>"
   ]
  },
  {
   "cell_type": "markdown",
   "metadata": {},
   "source": [
    "**$ sudo apt-get upgrade **"
   ]
  },
  {
   "cell_type": "markdown",
   "metadata": {},
   "source": [
    "* Se debe realizar la instalación del lenguaje de programación fortran, el cual es un lenguaje que está especialmente adaptado al cálculo numérico y a la computación científica. Para ello, se debe hacer uso del siguiente comando para instalarse"
   ]
  },
  {
   "cell_type": "markdown",
   "metadata": {},
   "source": [
    "**$ sudo apt-get install gfortran **"
   ]
  },
  {
   "cell_type": "markdown",
   "metadata": {},
   "source": [
    "* Crear un directorio llamado mpich2"
   ]
  },
  {
   "cell_type": "markdown",
   "metadata": {},
   "source": [
    "**$ mkdir /home/pi/mpich2**"
   ]
  },
  {
   "cell_type": "markdown",
   "metadata": {},
   "source": [
    "* Ingresar al directorio con el comando"
   ]
  },
  {
   "cell_type": "markdown",
   "metadata": {},
   "source": [
    "**$ cd ~/mpich2**"
   ]
  },
  {
   "cell_type": "markdown",
   "metadata": {},
   "source": [
    "* Se debe obtener el paquete fuente de MPI de Argonne, para ello se ejecuta el comando: \n",
    "<font color='red'>(**NOTA:** no se recomienda escribir manualmente la liga ya que puede ocacionar errores)</font>"
   ]
  },
  {
   "cell_type": "markdown",
   "metadata": {},
   "source": [
    "**$ wget http://www.mpich.org/static/tarballs/1.4.1p1/mpich2-1.4p1.tar.gz**"
   ]
  },
  {
   "cell_type": "markdown",
   "metadata": {},
   "source": [
    "* Finalizada la descarga, desempaquetar el contenido del archivo con el comando:"
   ]
  },
  {
   "cell_type": "markdown",
   "metadata": {},
   "source": [
    "**$ tar xfz mpich2-1.4.1p1.tar.gz**"
   ]
  },
  {
   "cell_type": "markdown",
   "metadata": {},
   "source": [
    "* Crear un nuevo directorio para almacenar el material compilado:"
   ]
  },
  {
   "cell_type": "markdown",
   "metadata": {},
   "source": [
    "**$ sudo mkdir /home/rpimpi/**"
   ]
  },
  {
   "cell_type": "markdown",
   "metadata": {},
   "source": [
    "* Se procede a realizar la instalación ejecutando el comando:"
   ]
  },
  {
   "cell_type": "markdown",
   "metadata": {},
   "source": [
    "**$ sudo mkdir /home/rpimpi/mpich2-install** "
   ]
  },
  {
   "cell_type": "markdown",
   "metadata": {},
   "source": [
    "* Se realiza la construcción del directorio con el comando"
   ]
  },
  {
   "cell_type": "markdown",
   "metadata": {},
   "source": [
    "**$ mkdir /home/pi/mpich_build**"
   ]
  },
  {
   "cell_type": "markdown",
   "metadata": {},
   "source": [
    "* Ir al directorio"
   ]
  },
  {
   "cell_type": "markdown",
   "metadata": {},
   "source": [
    "**$ cd /home/pi/mpich_build**"
   ]
  },
  {
   "cell_type": "markdown",
   "metadata": {},
   "source": [
    "* Se procede a configurar mpi (instalado anteriormente) con el comando : <font color='red'>(**NOTA:** Es normal que este paso demore, durante esta practica tardo entre 10 y 20 min)</font>"
   ]
  },
  {
   "cell_type": "markdown",
   "metadata": {},
   "source": [
    "**$ sudo /home/pi/mpich2/mpich2-1.4.1p1/configure- prefix=/home/rpimpi/mpich2-install**"
   ]
  },
  {
   "cell_type": "markdown",
   "metadata": {},
   "source": [
    "* Para crear los archivos se hace uso del comando : <font color='red'>(**NOTA:** Es normal que este paso demora, durante esta practica tardo entre 10 y 20 min)</font>"
   ]
  },
  {
   "cell_type": "markdown",
   "metadata": {},
   "source": [
    "**$ sudo make**"
   ]
  },
  {
   "cell_type": "markdown",
   "metadata": {},
   "source": [
    "* La instalación de los archivos se lleva a cabo mediante el comando:"
   ]
  },
  {
   "cell_type": "markdown",
   "metadata": {},
   "source": [
    "**$ sudo make install**"
   ]
  },
  {
   "cell_type": "markdown",
   "metadata": {},
   "source": [
    "* Añadir la dirección donde se colocó la instalación mediante el comando:"
   ]
  },
  {
   "cell_type": "markdown",
   "metadata": {},
   "source": [
    "** export PATH=$PATH:/home/rpimpi/mpich2-install/bin**"
   ]
  },
  {
   "cell_type": "markdown",
   "metadata": {},
   "source": [
    "* Editar el archivo .profile con el comando :"
   ]
  },
  {
   "cell_type": "markdown",
   "metadata": {},
   "source": [
    "**$ nano ~/.profile**"
   ]
  },
  {
   "cell_type": "markdown",
   "metadata": {},
   "source": [
    "* Agregar en la parte inferior del archivo las siguientes lineas y guardar:"
   ]
  },
  {
   "cell_type": "markdown",
   "metadata": {},
   "source": [
    "**# Add MPI to path<br> PATH=\"PATH:/home/rpimpi/mpich2-install/bin\"**"
   ]
  },
  {
   "cell_type": "markdown",
   "metadata": {},
   "source": [
    "* Reiniciar la tarjeta RaspPi para que se apliquen los cambios al archivo .profile"
   ]
  },
  {
   "cell_type": "markdown",
   "metadata": {},
   "source": [
    "**$ reboot**"
   ]
  },
  {
   "cell_type": "markdown",
   "metadata": {},
   "source": [
    "* Comprobar la instalación de los archivos mpicc y mpiexec"
   ]
  },
  {
   "cell_type": "markdown",
   "metadata": {},
   "source": [
    "**$ which mpicc**"
   ]
  },
  {
   "cell_type": "markdown",
   "metadata": {},
   "source": [
    "**$ which mpiexec**"
   ]
  },
  {
   "cell_type": "markdown",
   "metadata": {},
   "source": [
    "* Regresar al directorio home"
   ]
  },
  {
   "cell_type": "markdown",
   "metadata": {},
   "source": [
    "**$ cd ~/** "
   ]
  },
  {
   "cell_type": "markdown",
   "metadata": {},
   "source": [
    "* Crear un directorio para realizar pruebas e ingresar en él"
   ]
  },
  {
   "cell_type": "markdown",
   "metadata": {},
   "source": [
    "**$ mkdir mpi_testing**"
   ]
  },
  {
   "cell_type": "markdown",
   "metadata": {},
   "source": [
    "**$ cd mpi_testing**"
   ]
  },
  {
   "cell_type": "markdown",
   "metadata": {},
   "source": [
    "* Obtener y copiar la dirección IP y de la tarjeta con el comando"
   ]
  },
  {
   "cell_type": "markdown",
   "metadata": {},
   "source": [
    "**$ ifconfig**"
   ]
  },
  {
   "cell_type": "markdown",
   "metadata": {},
   "source": [
    "* Crear un archivo con el nombre de machinefile y agregar la dirección IP obtenida"
   ]
  },
  {
   "cell_type": "markdown",
   "metadata": {},
   "source": [
    "** $nano machinefile**"
   ]
  },
  {
   "cell_type": "markdown",
   "metadata": {},
   "source": [
    "* Ejecutar el siguiente comando para comprobar que mpi está funcionando de manera correcta. Este comando sirve para realizar la prueba con un solo nodo"
   ]
  },
  {
   "cell_type": "markdown",
   "metadata": {},
   "source": [
    "** $ mpiexec -f machinefile –n 1 hostname.**"
   ]
  },
  {
   "cell_type": "markdown",
   "metadata": {},
   "source": [
    "* la salida debe ser el nombre host de la placa que se configuró en la etapa 3 paso 4."
   ]
  },
  {
   "cell_type": "markdown",
   "metadata": {
    "collapsed": true
   },
   "source": [
    "## Etapa 3. Prueba local. \n",
    "* Se ejecuta el siguiente código de ejemplo en C, llamado CPI. En el subdirectorio donde se ha construido MPI."
   ]
  },
  {
   "cell_type": "markdown",
   "metadata": {},
   "source": [
    "**$ cd /home/pi/mpi_testing**"
   ]
  },
  {
   "cell_type": "markdown",
   "metadata": {},
   "source": [
    "**$ mpiexec -f machinefile -n 1 ~/mpich_build/examples/cpi**"
   ]
  },
  {
   "cell_type": "markdown",
   "metadata": {},
   "source": [
    "Si la pruena es satidfactoria, se tendra una salida así: **<br>Process 0 of 2 is on raspberrypi<br>Process 1 of 2 is on raspberrypi<br>pi is approximately 3.1415926544231318, Error is 0.0000000008333387**"
   ]
  },
  {
   "cell_type": "markdown",
   "metadata": {},
   "source": [
    "* Por último se ejecuta el siguiente comando para apagar la RaspPi de manera segura. "
   ]
  },
  {
   "cell_type": "markdown",
   "metadata": {},
   "source": [
    "**$ sudo poweroff**"
   ]
  },
  {
   "cell_type": "code",
   "execution_count": null,
   "metadata": {
    "collapsed": true
   },
   "outputs": [],
   "source": []
  }
 ],
 "metadata": {
  "kernelspec": {
   "display_name": "Python 2",
   "language": "python",
   "name": "python2"
  },
  "language_info": {
   "codemirror_mode": {
    "name": "ipython",
    "version": 2
   },
   "file_extension": ".py",
   "mimetype": "text/x-python",
   "name": "python",
   "nbconvert_exporter": "python",
   "pygments_lexer": "ipython2",
   "version": "2.7.13"
  }
 },
 "nbformat": 4,
 "nbformat_minor": 2
}
