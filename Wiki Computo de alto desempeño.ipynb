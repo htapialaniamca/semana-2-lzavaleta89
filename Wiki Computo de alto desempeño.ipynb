{
 "cells": [
  {
   "cell_type": "markdown",
   "metadata": {},
   "source": [
    "# Wiki Computo de alto desempeño.\n",
    "### Equipo Lania 1.\n",
    "### Mayo - Agosto 2017.\n",
    "\n",
    "#### Pasos para realizar una supercomputadora mediante RASPBERRY PI 2 \n",
    "\n",
    "#### Elementos requeridos para crear la supercomputadora. \n",
    "<li> Tarjeta Raspberry PI (para está práctica se utiliza la tipo PI 2)</li>\n",
    "<li> Tarjeta MicroSD (para está practica se utiliza una de 32 GB)</li>\n",
    "<li> Monitor con entrada HDMI</li>\n",
    "<li> Cable HDMI <font color='red'> (Se recomienda no hacer uso de adaptadores HDMI debido al consumo de energía)</font></li>\n",
    "<li> Teclado y mouse (conexión USB)</li>\n",
    "<li> Cable UTP</li>\n",
    "<li> Cargador de 5V</li>\n",
    "\n",
    "\n",
    "## Etapa 1. Instalación del Sistema Operativo.\n",
    "1. Requieres descargar la imagen del sistema operativo Raspbien desde la siguiente URL: https://www.raspberrypi.org/downloads/\n",
    "2. Al momento de realizar esta práctica se hace uso de la versión RASPBIAN JESSIE WITH PIXEL. Descarga el archivo .zip\n",
    "3. Una vez que descargaste el archivo, se debe descomprimir y utilizar un programa generador de imágenes de disco. La opción más conocida para Windows es Win32 DIsk Imager.\n",
    "4. Ejecutar el programa Win32 DIsk Imager en modo administrador.\n",
    "5. Seleccionar el archivo .ISO que se obtuvo de descomprimir el archivo .zip\n",
    "6. Seleccionar la tarjeta MicroSD donde se instalará la imagen.\n",
    "7. Una vez que el sistema está cargado en la tarjeta, se puede proceder a insertarla cuidadosamente en la RaspPi\n",
    "\n",
    "## Etapa 2. Conectar la tarjeta RaspPi\n",
    "1. Asegurate que el cargador cubre con los requisitos de voltaje, para que no causes un daño en la tarjeta.\n",
    "2. Conecta todos los periféricos a la tarjeta RaspPi antes de conectar el cargador.\n",
    "3. Una vez conectada la tarjeta se comienza a cargar el sistema operativo es sumamente importante no desconectar de la corriente durante esté paso de carga ya que se pueden provocar daños a la imagen.\n",
    "\n",
    "## Etapa 3. Configuración. \n",
    "1. Ingresar a una terminal de sistema operativo y ejecutar el comando <br>** sudo raspi-config**\n",
    "2. Se mostrará una lista de opciones donde se selecciona ampliar la imagen\n",
    "3. Dentro de la misma ventana de configuración del sistema se puede realizar el cambio de contraseña de acceso. Para este ejercicio se hace uso de la contraseña : **lania1**\n",
    "4. Cambiar el hostname de la tarjeta para poder identificarla en la red, para este ejercicio se utiliza el : **rpi-lania1**\n",
    "4. Se reinicia la sesión para que cobren efecto los cambios, dar clic en **finish**\n",
    "\n",
    "## Etapa 4. Instalación del software para realizar procesamiento en paralelo. \n",
    "1. Al reiniciarle la tarjeta pedirá la contraseña que se modifico anteriormente.<br>\n",
    "2. Abrir una termina y ejecutar los siguientes pasos\n",
    "3. Actualizar la lista de paquetes del sistema operativo mediante el comando <br>** sudo apt-get update**\n",
    "4. Cuando el comando anterior a terminado de descargar a lista de paquetes, se puede proceder a actualizarlos con el comando : <br>** sudo apt-get upgrade ** <br> <font color='red'>(no realizar este paso no afecta la configuración, este proceso puede tardar dependiendo de las condiciones de la red y el número de paquetes)</font></li>\n",
    "5. \n",
    "\n",
    "\n",
    ": <br>\n",
    "\n",
    "6. Crear un directorio llamado mpich2 <br> ** mkdir /home/pi/mpich2**\n",
    "7. Ingresar al directorio con el comando <br> ** cd ~/mpich2**\n",
    "8. Se debe obtener el paquete fuente de MPI de Argonne, para ello se ejecuta el comando: <br> **wget http://www.mpich.org/static/tarballs/1.4.1p1/mpich2-1.4p1.tar.gz** <br> <font color='red'>(no se recomienda escribir manualmente la liga ya que puede ocacionar errores)</font></li>\n",
    "9. Finalizada la descarga, desempaquetar el contenido del archivo con el comando: <br>** tar xfz mpich2-1.4.1p1.tar.gz**\n",
    "10. Crear un nuevo directorio para almacenar el material compilado: <br>** sudo mkdir /home/rpimpi/**\n",
    "11. Se procede a realizar la instalación ejecutando el comando: <br>** sudo mkdir /home/rpimpi/mpich2-install** \n",
    "12. Se realiza la construcción del directorio con el comando <br>** mkdir /home/pi/mpich_build** \n",
    "13. Ir al directorio <br>** cd /home/pi/mpich_build** \n",
    "14. Se procede a configurar mpi (instalado anteriormente) con el comando : <br> ** sudo /home/pi/mpich2/mpich2-1.4.1p1/configure- prefix=/home/rpimpi/mpich2-install**<br><font color='red'>(**NOTA:** Es normal que este paso demora, durante esta practica tardo entre 10 y 20 min)</font></li>\n",
    "15. Para crear los archivos se hace uso del comando :<br>** sudo make**<br><font color='red'>(**NOTA:** Es normal que este paso demora, durante esta practica tardo entre 10 y 20 min)</font></li>\n",
    "16. La instalación de los archivos se lleva a cabo mediante el comando: <br>** sudo make install**<br>\n",
    "17. Añadir la dirección donde se colocó la instalación mediante el comando: <br>** export PATH=PATH:/home/rpimpi/mpich2-install/bin**\n",
    "18. Editar el archivo .profile con el comando : <br>** nano ~/.profile**\n",
    "19. Agregar en la parte inferior del archivo las siguientes lineas y guardar:<br>**# Add MPI to path<br> PATH=\"PATH:/home/rpimpi/mpich2-install/bin\"**\n",
    "20. Reiniciar la tarjeta RaspPi para que se apliquen los cambios al archivo .profile <br>**> reboot** \n",
    "21. Comprobar la instalación de los archivos mpicc y mpiexec <br>**> which mpicc** <br>**> which mpiexec** \n",
    "22. Regresar al directorio home :<br>**> cd ~** \n",
    "23. Crear un directorio para realizar pruebas e ingresar en él:<br>**> mkdir mpi_testing** <br>**> cd mpi_testing** \n",
    "24. Obtener y copiar la dirección IP y de la tarjeta con el comando :<br>**> ifconfig** \n",
    "25. Crear un archivo con el nombre de machinefile y agregar la dirección IP obtenida.<br>**> nano machinefile** \n",
    "26. Ejecutar el siguiente comando para comprobar que mpi está funcionando de manera correcta. Este comando sirve para realizar la prueba con un solo nodo. <br>**> mpiexec -f machinefile –n 1 hostname.** <br> la salida debe ser el nombre host de la placa que se configuró en la etapa 3 paso 4."
   ]
  },
  {
   "cell_type": "code",
   "execution_count": null,
   "metadata": {
    "collapsed": true
   },
   "outputs": [],
   "source": [
    "<input type=\"checkbox\" id=\"cbox2\" value=\"second_checkbox\"> <label for=\"cbox2\">Iniciar nuevamente una terminal y ejecutar los siguientes pasos</label>\n",
    "\n",
    "\n",
    "<font color='red'> </font></li>\n",
    "<font color='red'> </font></li>\n",
    "\n",
    "<br>**> ** "
   ]
  }
 ],
 "metadata": {
  "kernelspec": {
   "display_name": "Python 2",
   "language": "python",
   "name": "python2"
  },
  "language_info": {
   "codemirror_mode": {
    "name": "ipython",
    "version": 2
   },
   "file_extension": ".py",
   "mimetype": "text/x-python",
   "name": "python",
   "nbconvert_exporter": "python",
   "pygments_lexer": "ipython2",
   "version": "2.7.13"
  }
 },
 "nbformat": 4,
 "nbformat_minor": 2
}
