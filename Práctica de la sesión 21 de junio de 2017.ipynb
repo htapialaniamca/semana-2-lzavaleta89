{
 "cells": [
  {
   "cell_type": "markdown",
   "metadata": {
    "collapsed": true
   },
   "source": [
    "### Práctica de multiprocesos con RaspberryPi. \n",
    "\n",
    "Se inicia la práctica con la ejecución de los comandos para la comunicación entre tarjetas Raspberry Pi conectadas a una red. Las tarjetas a su vez cuentan con un circuito con indicadores LED's que permiten saber desde que tarjeta se está realizando la comunicación. \n",
    "\n",
    "#### Pasos de la práctica\n",
    "* Se inicia una sesión SSH desde terminal (el equipo para realizar la práctica cuenta con el sistema operativo Mac OSX)\n",
    "\n",
    "<font color=\"#0080ff\">ERROR. Se comete un error en este punto ya que se intentó acceder con el nombre del host y sin el nombre de usuario. Posteriormente se corrigue el comando.</font> "
   ]
  },
  {
   "cell_type": "markdown",
   "metadata": {},
   "source": [
    "$ ssh pi@192.168.100.25 "
   ]
  },
  {
   "cell_type": "markdown",
   "metadata": {},
   "source": [
    "* Una vez dentro de la tarjeta, se accede a la ubicación donde se encuentran los archivos utilizados para las prácticas anteriores. Los archivos se encuentran en la carpeta comades."
   ]
  },
  {
   "cell_type": "markdown",
   "metadata": {},
   "source": [
    "$ cd comades/python"
   ]
  },
  {
   "cell_type": "markdown",
   "metadata": {},
   "source": [
    "* Se ubica el archivo machinfile dentro del directorio comades. Se modifica para aceptar solo las conexiones necesarios. "
   ]
  },
  {
   "cell_type": "markdown",
   "metadata": {},
   "source": [
    "$ nano machinfile"
   ]
  },
  {
   "cell_type": "markdown",
   "metadata": {},
   "source": [
    "Dentro del archivo se coloca como primer elemento el nombre host de la tarjeta que enviará la señal y como segundo elemento el nombre host de la tarjeta que recibirá la señal. "
   ]
  },
  {
   "cell_type": "markdown",
   "metadata": {},
   "source": [
    "Una vez modificado y guardado los cambios en el archivo machinfile se ejecuta el archivo ledCustom, este archivo ya cuenta con la configuración necesaria para poder enviar mensajes hasta a 5 procesos diferentes. "
   ]
  },
  {
   "cell_type": "markdown",
   "metadata": {},
   "source": [
    "$ mpirun.openmpi -np 2 -machinfile machinfile python ledCustom.py"
   ]
  },
  {
   "cell_type": "code",
   "execution_count": null,
   "metadata": {
    "collapsed": true
   },
   "outputs": [],
   "source": []
  }
 ],
 "metadata": {
  "kernelspec": {
   "display_name": "Python 2",
   "language": "python",
   "name": "python2"
  },
  "language_info": {
   "codemirror_mode": {
    "name": "ipython",
    "version": 2
   },
   "file_extension": ".py",
   "mimetype": "text/x-python",
   "name": "python",
   "nbconvert_exporter": "python",
   "pygments_lexer": "ipython2",
   "version": "2.7.13"
  }
 },
 "nbformat": 4,
 "nbformat_minor": 2
}
